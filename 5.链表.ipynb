{
 "cells": [
  {
   "cell_type": "code",
   "execution_count": 18,
   "metadata": {
    "collapsed": true,
    "pycharm": {
     "name": "#%%\n"
    }
   },
   "outputs": [],
   "source": [
    "# Definition for singly-linked list.\n",
    "class ListNode(object):\n",
    "    def __init__(self):\n",
    "        self.val = None\n",
    "        self.next = None"
   ]
  },
  {
   "cell_type": "code",
   "execution_count": 19,
   "outputs": [],
   "source": [
    "class ListNode_handle:\n",
    "    def __init__(self):\n",
    "        self.cur_node = None\n",
    "\n",
    "    def add(self, data):\n",
    "        #add a new node pointed to previous node\n",
    "        node = ListNode()\n",
    "        node.val = data\n",
    "        node.next = self.cur_node\n",
    "        self.cur_node = node\n",
    "        return node\n",
    "\n",
    "    def print_ListNode(self, node):\n",
    "        while node:\n",
    "            print ('\\nnode: ', node, ' value: ', node.val, ' next: ', node.next)\n",
    "            node = node.next\n",
    "\n",
    "    def _reverse(self, nodelist):\n",
    "        list = []\n",
    "        while nodelist:\n",
    "            list.append(nodelist.val)\n",
    "            nodelist = nodelist.next\n",
    "        result = ListNode()\n",
    "        result_handle = ListNode_handle()\n",
    "        for i in list:\n",
    "            result = result_handle.add(i)\n",
    "        return result"
   ],
   "metadata": {
    "collapsed": false,
    "pycharm": {
     "name": "#%%\n"
    }
   }
  },
  {
   "cell_type": "code",
   "execution_count": 21,
   "outputs": [
    {
     "name": "stdout",
     "output_type": "stream",
     "text": [
      "\n",
      "node:  <__main__.ListNode object at 0x000001B04E9FC700>  value:  3  next:  <__main__.ListNode object at 0x000001B04EF2CF40>\n",
      "\n",
      "node:  <__main__.ListNode object at 0x000001B04EF2CF40>  value:  8  next:  <__main__.ListNode object at 0x000001B04E9FCE80>\n",
      "\n",
      "node:  <__main__.ListNode object at 0x000001B04E9FCE80>  value:  1  next:  None\n"
     ]
    }
   ],
   "source": [
    "ListNode_1 = ListNode_handle()\n",
    "l1 = ListNode()\n",
    "l1_list = [1,8,3]\n",
    "for i in l1_list:\n",
    "    l1 = ListNode_1.add(i)\n",
    "# ListNode_1\n",
    "ListNode_1.print_ListNode(l1)"
   ],
   "metadata": {
    "collapsed": false,
    "pycharm": {
     "name": "#%%\n"
    }
   }
  },
  {
   "cell_type": "code",
   "execution_count": 20,
   "outputs": [],
   "source": [],
   "metadata": {
    "collapsed": false,
    "pycharm": {
     "name": "#%%\n"
    }
   }
  }
 ],
 "metadata": {
  "kernelspec": {
   "display_name": "Python 3",
   "language": "python",
   "name": "python3"
  },
  "language_info": {
   "codemirror_mode": {
    "name": "ipython",
    "version": 2
   },
   "file_extension": ".py",
   "mimetype": "text/x-python",
   "name": "python",
   "nbconvert_exporter": "python",
   "pygments_lexer": "ipython2",
   "version": "2.7.6"
  }
 },
 "nbformat": 4,
 "nbformat_minor": 0
}