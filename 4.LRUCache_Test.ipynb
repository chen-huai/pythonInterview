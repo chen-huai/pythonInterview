{
 "cells": [
  {
   "cell_type": "code",
   "execution_count": 1,
   "metadata": {
    "collapsed": true,
    "pycharm": {
     "name": "#%%\n"
    }
   },
   "outputs": [],
   "source": [
    "from collections import OrderedDict\n",
    "class LRUCache:\n",
    "    def _init_(self,capacity=128):\n",
    "        self.od = OrderedDict\n",
    "        self.capacity = capacity\n",
    "    def get(self,key):#每次访问更新最新使用的key\n",
    "        if key in self.od:\n",
    "            val = self.od[key]\n",
    "            self.od.move_to_end(key)\n",
    "            return val\n",
    "        else:\n",
    "            return -1\n",
    "    def put(self,key,value):#更新kV\n",
    "        if key in self.od:\n",
    "            del self.od[key]\n",
    "            self.od[key]=value#更新key到表头\n",
    "        else:\n",
    "            self.od[key]=value\n",
    "            #判断当前容量是否已经满了\n",
    "            if len(self.od)>self.capacity:\n",
    "                self.od.popitem(last=False)"
   ]
  }
 ],
 "metadata": {
  "kernelspec": {
   "display_name": "Python 3",
   "language": "python",
   "name": "python3"
  },
  "language_info": {
   "codemirror_mode": {
    "name": "ipython",
    "version": 2
   },
   "file_extension": ".py",
   "mimetype": "text/x-python",
   "name": "python",
   "nbconvert_exporter": "python",
   "pygments_lexer": "ipython2",
   "version": "2.7.6"
  }
 },
 "nbformat": 4,
 "nbformat_minor": 0
}