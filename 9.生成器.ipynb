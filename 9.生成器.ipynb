{
 "cells": [
  {
   "cell_type": "code",
   "execution_count": 1,
   "metadata": {
    "collapsed": true,
    "pycharm": {
     "name": "#%%\n"
    }
   },
   "outputs": [
    {
     "name": "stdout",
     "output_type": "stream",
     "text": [
      "<class 'generator'>\n",
      "hello\n",
      "world\n"
     ]
    }
   ],
   "source": [
    "def simple_gen():\n",
    "    yield 'hello'\n",
    "    yield 'world'\n",
    "gen = simple_gen()\n",
    "print(type(gen))\n",
    "# 'generator'object\n",
    "print(next(gen))\n",
    "#'hello'\n",
    "print(next(gen))\n",
    "#'world'"
   ]
  },
  {
   "cell_type": "code",
   "execution_count": 2,
   "outputs": [
    {
     "name": "stdout",
     "output_type": "stream",
     "text": [
      "hello\n",
      "world\n"
     ]
    }
   ],
   "source": [
    "def coro():\n",
    "    hello=yield'hello'#yield关键字在=右边作为表达式，可以被send值\n",
    "    yield hello\n",
    "c = coro()\n",
    "#输出'hello',这里调用next产出第一个值'hello',之后函数暂停\n",
    "print(next(c))\n",
    "#再次调用send发送值，此时hello变量赋值为'world',然后yield产出hello变量的值'world'\n",
    "print(c.send('world'))\n",
    "#之后协程结束，后续再send值会抛异常StopIteration"
   ],
   "metadata": {
    "collapsed": false,
    "pycharm": {
     "name": "#%%\n"
    }
   }
  },
  {
   "cell_type": "code",
   "execution_count": 1,
   "outputs": [],
   "source": [
    "from functools import wraps\n",
    "def coroutine(func):#这样就不用每次都用send(None)启动了\n",
    "    \"\"\"装饰器：向前执行到第一个`yield表达式，预激~func`\"\"\"\n",
    "    @wraps (func)\n",
    "    def primer(*args,**kwargs):\n",
    "        gen = func(*args,**kwargs)\n",
    "        next(gen)\n",
    "        return gen\n",
    "    return primer"
   ],
   "metadata": {
    "collapsed": false,
    "pycharm": {
     "name": "#%%\n"
    }
   }
  },
  {
   "cell_type": "code",
   "execution_count": 2,
   "outputs": [
    {
     "ename": "RuntimeError",
     "evalue": "This event loop is already running",
     "output_type": "error",
     "traceback": [
      "\u001B[1;31m---------------------------------------------------------------------------\u001B[0m",
      "\u001B[1;31mRuntimeError\u001B[0m                              Traceback (most recent call last)",
      "Cell \u001B[1;32mIn [2], line 16\u001B[0m\n\u001B[0;32m     14\u001B[0m asyncio\u001B[38;5;241m.\u001B[39mensure_future(display_date(\u001B[38;5;241m1\u001B[39m,loop))\n\u001B[0;32m     15\u001B[0m asyncio\u001B[38;5;241m.\u001B[39mensure_future(display_date(\u001B[38;5;241m2\u001B[39m,loop))\n\u001B[1;32m---> 16\u001B[0m \u001B[43mloop\u001B[49m\u001B[38;5;241;43m.\u001B[39;49m\u001B[43mrun_forever\u001B[49m\u001B[43m(\u001B[49m\u001B[43m)\u001B[49m\n",
      "File \u001B[1;32mC:\\python\\lib\\asyncio\\base_events.py:591\u001B[0m, in \u001B[0;36mBaseEventLoop.run_forever\u001B[1;34m(self)\u001B[0m\n\u001B[0;32m    589\u001B[0m \u001B[38;5;124;03m\"\"\"Run until stop() is called.\"\"\"\u001B[39;00m\n\u001B[0;32m    590\u001B[0m \u001B[38;5;28mself\u001B[39m\u001B[38;5;241m.\u001B[39m_check_closed()\n\u001B[1;32m--> 591\u001B[0m \u001B[38;5;28;43mself\u001B[39;49m\u001B[38;5;241;43m.\u001B[39;49m\u001B[43m_check_running\u001B[49m\u001B[43m(\u001B[49m\u001B[43m)\u001B[49m\n\u001B[0;32m    592\u001B[0m \u001B[38;5;28mself\u001B[39m\u001B[38;5;241m.\u001B[39m_set_coroutine_origin_tracking(\u001B[38;5;28mself\u001B[39m\u001B[38;5;241m.\u001B[39m_debug)\n\u001B[0;32m    593\u001B[0m \u001B[38;5;28mself\u001B[39m\u001B[38;5;241m.\u001B[39m_thread_id \u001B[38;5;241m=\u001B[39m threading\u001B[38;5;241m.\u001B[39mget_ident()\n",
      "File \u001B[1;32mC:\\python\\lib\\asyncio\\base_events.py:583\u001B[0m, in \u001B[0;36mBaseEventLoop._check_running\u001B[1;34m(self)\u001B[0m\n\u001B[0;32m    581\u001B[0m \u001B[38;5;28;01mdef\u001B[39;00m \u001B[38;5;21m_check_running\u001B[39m(\u001B[38;5;28mself\u001B[39m):\n\u001B[0;32m    582\u001B[0m     \u001B[38;5;28;01mif\u001B[39;00m \u001B[38;5;28mself\u001B[39m\u001B[38;5;241m.\u001B[39mis_running():\n\u001B[1;32m--> 583\u001B[0m         \u001B[38;5;28;01mraise\u001B[39;00m \u001B[38;5;167;01mRuntimeError\u001B[39;00m(\u001B[38;5;124m'\u001B[39m\u001B[38;5;124mThis event loop is already running\u001B[39m\u001B[38;5;124m'\u001B[39m)\n\u001B[0;32m    584\u001B[0m     \u001B[38;5;28;01mif\u001B[39;00m events\u001B[38;5;241m.\u001B[39m_get_running_loop() \u001B[38;5;129;01mis\u001B[39;00m \u001B[38;5;129;01mnot\u001B[39;00m \u001B[38;5;28;01mNone\u001B[39;00m:\n\u001B[0;32m    585\u001B[0m         \u001B[38;5;28;01mraise\u001B[39;00m \u001B[38;5;167;01mRuntimeError\u001B[39;00m(\n\u001B[0;32m    586\u001B[0m             \u001B[38;5;124m'\u001B[39m\u001B[38;5;124mCannot run the event loop while another loop is running\u001B[39m\u001B[38;5;124m'\u001B[39m)\n",
      "\u001B[1;31mRuntimeError\u001B[0m: This event loop is already running"
     ]
    }
   ],
   "source": [
    "# Python.3原生协程\n",
    "# Python3.5引入async/await支持原生协程(native coroutine)\n",
    "import asyncio\n",
    "import datetime\n",
    "import random\n",
    "async def display_date(num, loop):\n",
    "    end_time = loop.time()+50.0\n",
    "    while True:\n",
    "        print('Loop:{Time:{}'.format(num,datetime.datetime.now()))\n",
    "        if (loop.time()+1.0)>=end_time:\n",
    "            break\n",
    "        await asyncio.sleep(random.randint(0,5))\n",
    "loop = asyncio.get_event_loop()\n",
    "asyncio.ensure_future(display_date(1,loop))\n",
    "asyncio.ensure_future(display_date(2,loop))\n",
    "loop.run_forever()"
   ],
   "metadata": {
    "collapsed": false,
    "pycharm": {
     "name": "#%%\n"
    }
   }
  },
  {
   "cell_type": "code",
   "execution_count": null,
   "outputs": [],
   "source": [],
   "metadata": {
    "collapsed": false,
    "pycharm": {
     "name": "#%%\n"
    }
   }
  }
 ],
 "metadata": {
  "kernelspec": {
   "display_name": "Python 3",
   "language": "python",
   "name": "python3"
  },
  "language_info": {
   "codemirror_mode": {
    "name": "ipython",
    "version": 2
   },
   "file_extension": ".py",
   "mimetype": "text/x-python",
   "name": "python",
   "nbconvert_exporter": "python",
   "pygments_lexer": "ipython2",
   "version": "2.7.6"
  }
 },
 "nbformat": 4,
 "nbformat_minor": 0
}