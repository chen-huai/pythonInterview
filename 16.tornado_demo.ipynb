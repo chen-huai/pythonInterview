{
 "cells": [
  {
   "cell_type": "code",
   "execution_count": 3,
   "outputs": [
    {
     "ename": "RuntimeError",
     "evalue": "This event loop is already running",
     "output_type": "error",
     "traceback": [
      "\u001B[1;31m---------------------------------------------------------------------------\u001B[0m",
      "\u001B[1;31mRuntimeError\u001B[0m                              Traceback (most recent call last)",
      "Cell \u001B[1;32mIn [3], line 18\u001B[0m\n\u001B[0;32m     16\u001B[0m app \u001B[38;5;241m=\u001B[39m make_app()\n\u001B[0;32m     17\u001B[0m app\u001B[38;5;241m.\u001B[39mlisten(\u001B[38;5;241m121\u001B[39m)\n\u001B[1;32m---> 18\u001B[0m \u001B[43mtornado\u001B[49m\u001B[38;5;241;43m.\u001B[39;49m\u001B[43mioloop\u001B[49m\u001B[38;5;241;43m.\u001B[39;49m\u001B[43mIOLoop\u001B[49m\u001B[38;5;241;43m.\u001B[39;49m\u001B[43mcurrent\u001B[49m\u001B[43m(\u001B[49m\u001B[43m)\u001B[49m\u001B[38;5;241;43m.\u001B[39;49m\u001B[43mstart\u001B[49m\u001B[43m(\u001B[49m\u001B[43m)\u001B[49m\n",
      "File \u001B[1;32m~\\PycharmProjects\\pythonInterview\\venv\\lib\\site-packages\\tornado\\platform\\asyncio.py:215\u001B[0m, in \u001B[0;36mBaseAsyncIOLoop.start\u001B[1;34m(self)\u001B[0m\n\u001B[0;32m    213\u001B[0m \u001B[38;5;28;01mtry\u001B[39;00m:\n\u001B[0;32m    214\u001B[0m     asyncio\u001B[38;5;241m.\u001B[39mset_event_loop(\u001B[38;5;28mself\u001B[39m\u001B[38;5;241m.\u001B[39masyncio_loop)\n\u001B[1;32m--> 215\u001B[0m     \u001B[38;5;28;43mself\u001B[39;49m\u001B[38;5;241;43m.\u001B[39;49m\u001B[43masyncio_loop\u001B[49m\u001B[38;5;241;43m.\u001B[39;49m\u001B[43mrun_forever\u001B[49m\u001B[43m(\u001B[49m\u001B[43m)\u001B[49m\n\u001B[0;32m    216\u001B[0m \u001B[38;5;28;01mfinally\u001B[39;00m:\n\u001B[0;32m    217\u001B[0m     asyncio\u001B[38;5;241m.\u001B[39mset_event_loop(old_loop)\n",
      "File \u001B[1;32mC:\\python\\lib\\asyncio\\base_events.py:591\u001B[0m, in \u001B[0;36mBaseEventLoop.run_forever\u001B[1;34m(self)\u001B[0m\n\u001B[0;32m    589\u001B[0m \u001B[38;5;250m\u001B[39m\u001B[38;5;124;03m\"\"\"Run until stop() is called.\"\"\"\u001B[39;00m\n\u001B[0;32m    590\u001B[0m \u001B[38;5;28mself\u001B[39m\u001B[38;5;241m.\u001B[39m_check_closed()\n\u001B[1;32m--> 591\u001B[0m \u001B[38;5;28;43mself\u001B[39;49m\u001B[38;5;241;43m.\u001B[39;49m\u001B[43m_check_running\u001B[49m\u001B[43m(\u001B[49m\u001B[43m)\u001B[49m\n\u001B[0;32m    592\u001B[0m \u001B[38;5;28mself\u001B[39m\u001B[38;5;241m.\u001B[39m_set_coroutine_origin_tracking(\u001B[38;5;28mself\u001B[39m\u001B[38;5;241m.\u001B[39m_debug)\n\u001B[0;32m    593\u001B[0m \u001B[38;5;28mself\u001B[39m\u001B[38;5;241m.\u001B[39m_thread_id \u001B[38;5;241m=\u001B[39m threading\u001B[38;5;241m.\u001B[39mget_ident()\n",
      "File \u001B[1;32mC:\\python\\lib\\asyncio\\base_events.py:583\u001B[0m, in \u001B[0;36mBaseEventLoop._check_running\u001B[1;34m(self)\u001B[0m\n\u001B[0;32m    581\u001B[0m \u001B[38;5;28;01mdef\u001B[39;00m \u001B[38;5;21m_check_running\u001B[39m(\u001B[38;5;28mself\u001B[39m):\n\u001B[0;32m    582\u001B[0m     \u001B[38;5;28;01mif\u001B[39;00m \u001B[38;5;28mself\u001B[39m\u001B[38;5;241m.\u001B[39mis_running():\n\u001B[1;32m--> 583\u001B[0m         \u001B[38;5;28;01mraise\u001B[39;00m \u001B[38;5;167;01mRuntimeError\u001B[39;00m(\u001B[38;5;124m'\u001B[39m\u001B[38;5;124mThis event loop is already running\u001B[39m\u001B[38;5;124m'\u001B[39m)\n\u001B[0;32m    584\u001B[0m     \u001B[38;5;28;01mif\u001B[39;00m events\u001B[38;5;241m.\u001B[39m_get_running_loop() \u001B[38;5;129;01mis\u001B[39;00m \u001B[38;5;129;01mnot\u001B[39;00m \u001B[38;5;28;01mNone\u001B[39;00m:\n\u001B[0;32m    585\u001B[0m         \u001B[38;5;28;01mraise\u001B[39;00m \u001B[38;5;167;01mRuntimeError\u001B[39;00m(\n\u001B[0;32m    586\u001B[0m             \u001B[38;5;124m'\u001B[39m\u001B[38;5;124mCannot run the event loop while another loop is running\u001B[39m\u001B[38;5;124m'\u001B[39m)\n",
      "\u001B[1;31mRuntimeError\u001B[0m: This event loop is already running"
     ]
    }
   ],
   "source": [
    "import tornado.ioloop\n",
    "import tornado.web\n",
    "from tornado.httpclient import AsyncHTTPClient\n",
    "class APIHandler(tornado.web.RequestHandler):\n",
    "    async def get(self):\n",
    "        url = 'http://httpbin.org/get'\n",
    "        http_client = AsyncHTTPClient()\n",
    "        resp = http_client.fetch(url)\n",
    "        print(resp.body)\n",
    "        return resp.body\n",
    "def make_app():\n",
    "    return tornado.web.Application([\n",
    "(r\"/api\",APIHandler),\n",
    "])\n",
    "if __name__ == \"__main__\":\n",
    "    app = make_app()\n",
    "    app.listen(121)\n",
    "    tornado.ioloop.IOLoop.current().start()"
   ],
   "metadata": {
    "collapsed": false,
    "pycharm": {
     "name": "#%%\n"
    }
   }
  },
  {
   "cell_type": "code",
   "execution_count": null,
   "outputs": [],
   "source": [],
   "metadata": {
    "collapsed": false,
    "pycharm": {
     "name": "#%%\n"
    }
   }
  }
 ],
 "metadata": {
  "kernelspec": {
   "display_name": "Python 3",
   "language": "python",
   "name": "python3"
  },
  "language_info": {
   "codemirror_mode": {
    "name": "ipython",
    "version": 2
   },
   "file_extension": ".py",
   "mimetype": "text/x-python",
   "name": "python",
   "nbconvert_exporter": "python",
   "pygments_lexer": "ipython2",
   "version": "2.7.6"
  }
 },
 "nbformat": 4,
 "nbformat_minor": 0
}