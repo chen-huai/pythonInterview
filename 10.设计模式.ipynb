{
 "cells": [
  {
   "cell_type": "code",
   "execution_count": 26,
   "outputs": [],
   "source": [
    "#一个工厂方法的例子\n",
    "class DogToy:\n",
    "\tdef speak(self):\n",
    "\t\tprint(\"wangwang\")\n",
    "class CatToy:\n",
    "\tdef speak(self):\n",
    "\t\tprint(\"miao miao\")\n",
    "\n",
    "def toy_factory(toy_type):\n",
    "\tif toy_type == 'dog':\n",
    "\t\treturn DogToy()\n",
    "\telif toy_type == 'cat':\n",
    "\t\treturn CatToy()"
   ],
   "metadata": {
    "collapsed": false,
    "pycharm": {
     "name": "#%%\n"
    }
   }
  },
  {
   "cell_type": "code",
   "execution_count": 27,
   "outputs": [
    {
     "ename": "AttributeError",
     "evalue": "'HardwareEngineer' object has no attribute 'builder'",
     "output_type": "error",
     "traceback": [
      "\u001B[1;31m---------------------------------------------------------------------------\u001B[0m",
      "\u001B[1;31mAttributeError\u001B[0m                            Traceback (most recent call last)",
      "Cell \u001B[1;32mIn [27], line 34\u001B[0m\n\u001B[0;32m     32\u001B[0m \u001B[38;5;66;03m#使用buidler,可以创建多个builder类实现不同的组装方式\u001B[39;00m\n\u001B[0;32m     33\u001B[0m engineer \u001B[38;5;241m=\u001B[39m HardwareEngineer()\n\u001B[1;32m---> 34\u001B[0m \u001B[43mengineer\u001B[49m\u001B[38;5;241;43m.\u001B[39;49m\u001B[43mconstruct_computer\u001B[49m\u001B[43m(\u001B[49m\u001B[43mhdd\u001B[49m\u001B[43m \u001B[49m\u001B[38;5;241;43m=\u001B[39;49m\u001B[43m \u001B[49m\u001B[38;5;241;43m500\u001B[39;49m\u001B[43m,\u001B[49m\u001B[43mmemory\u001B[49m\u001B[38;5;241;43m=\u001B[39;49m\u001B[38;5;241;43m8\u001B[39;49m\u001B[43m,\u001B[49m\u001B[43mgpu\u001B[49m\u001B[38;5;241;43m=\u001B[39;49m\u001B[38;5;124;43m'\u001B[39;49m\u001B[38;5;124;43mGeForce GTX 650 Ti\u001B[39;49m\u001B[38;5;124;43m'\u001B[39;49m\u001B[43m)\u001B[49m\n\u001B[0;32m     35\u001B[0m computer \u001B[38;5;241m=\u001B[39m engineer\u001B[38;5;241m.\u001B[39mcomputer\n\u001B[0;32m     36\u001B[0m \u001B[38;5;28mprint\u001B[39m(computer)\n",
      "Cell \u001B[1;32mIn [27], line 27\u001B[0m, in \u001B[0;36mHardwareEngineer.construct_computer\u001B[1;34m(self, memory, hdd, gpu)\u001B[0m\n\u001B[0;32m     25\u001B[0m \u001B[38;5;28;01mdef\u001B[39;00m \u001B[38;5;21mconstruct_computer\u001B[39m(\u001B[38;5;28mself\u001B[39m,memory,hdd,gpu):\n\u001B[0;32m     26\u001B[0m \t\u001B[38;5;28mself\u001B[39m\u001B[38;5;241m.\u001B[39mbuilder \u001B[38;5;241m=\u001B[39m ComputerBuilder(\n\u001B[1;32m---> 27\u001B[0m \t[step \u001B[38;5;28;01mfor\u001B[39;00m step \u001B[38;5;129;01min\u001B[39;00m (\u001B[38;5;28;43mself\u001B[39;49m\u001B[38;5;241;43m.\u001B[39;49m\u001B[43mbuilder\u001B[49m\u001B[38;5;241m.\u001B[39mconfigure_memory(memory),\u001B[38;5;28mself\u001B[39m\u001B[38;5;241m.\u001B[39mbuilder\u001B[38;5;241m.\u001B[39mconfigure_hdd(hdd),\u001B[38;5;28mself\u001B[39m\u001B[38;5;241m.\u001B[39mbuilder\u001B[38;5;241m.\u001B[39mconfigure_gpu(gpu))])\n",
      "\u001B[1;31mAttributeError\u001B[0m: 'HardwareEngineer' object has no attribute 'builder'"
     ]
    }
   ],
   "source": [
    "#一个构造模式的例子\n",
    "class Computer:\n",
    "\tdef _init(self,serial_number):\n",
    "\t\tself.serialserial_number\n",
    "\t\tself.memory = None #in gigabytes\n",
    "\t\tself.hdd = None #in gigabytes\n",
    "\t\tself.gpu = None\n",
    "\tdef _str_(self):\n",
    "\t\tinfo = ('Memory:[}GB'.format(self.memory),\n",
    "\t\t'Hard Disk:[GB'.format(self.hdd),\n",
    "\t\t'Graphics Card:'.format(self.gpu))\n",
    "\t\treturn '\\n'.join(info)\n",
    "class ComputerBuilder:\n",
    "\tdef _init_(self):\n",
    "\t\tself.computer = Computer('AG23385193')\n",
    "\tdef configure_memory(self,amount):\n",
    "\t\tself.computer.memory = amount\n",
    "\tdef configure_hdd(self,amount):\n",
    "\t\tself.computer.hdd = amount\n",
    "\tdef configure_gpu(self,gpu_model):\n",
    "\t\tself.computer.gpu = gpu_model\n",
    "class HardwareEngineer:\n",
    "\tdef _init_(self):\n",
    "\t\tself.builder = None\n",
    "\tdef construct_computer(self,memory,hdd,gpu):\n",
    "\t\tself.builder = ComputerBuilder(\n",
    "\t\t[step for step in (self.builder.configure_memory(memory),self.builder.configure_hdd(hdd),self.builder.configure_gpu(gpu))])\n",
    "\t\t# [step for step in (self.ComputerBuilder.configure_memory(memory),self.ComputerBuilder.configure_hdd(hdd),self.ComputerBuilder.configure_gpu(gpu))])\n",
    "\t@property\n",
    "\tdef computer(self):\n",
    "\t\treturn self.builder.computer\n",
    "#使用buidler,可以创建多个builder类实现不同的组装方式\n",
    "engineer = HardwareEngineer()\n",
    "engineer.construct_computer(hdd = 500,memory=8,gpu='GeForce GTX 650 Ti')\n",
    "computer = engineer.computer\n",
    "print(computer)"
   ],
   "metadata": {
    "collapsed": false,
    "pycharm": {
     "name": "#%%\n"
    }
   }
  },
  {
   "cell_type": "code",
   "execution_count": null,
   "outputs": [],
   "source": [
    "#单例模式\n",
    "class Singleton:\n",
    "\tdef __new__(cls,*args,**kwargs):\n",
    "\t\tif not hasattr(cls,'_instance'):\n",
    "\t\t\t_instance = super().__new__(cls,*args,**kwargs)\n",
    "\t\t\tcls._instance =_instance\n",
    "\t\treturn cls._instance\n",
    "class MyClass(Singleton):\n",
    "\tpass\n",
    "c1 = MyClass()\n",
    "c2 = MyClass()\n",
    "print(c1 is c2)"
   ],
   "metadata": {
    "collapsed": false,
    "pycharm": {
     "name": "#%%\n"
    }
   }
  },
  {
   "cell_type": "code",
   "execution_count": null,
   "outputs": [],
   "source": [
    "#适配器模式的例子\n",
    "class Dog(object):\n",
    "\tdef __init__(self):\n",
    "\t\tself.name = \"Dog\"\n",
    "\tdef bark(self):\n",
    "\t\treturn \"woof!\"\n",
    "class Cat(object):\n",
    "\tdef __init__(self):\n",
    "\t\tself.name = \"Cat\"\n",
    "\tdef meow(self):\n",
    "\t\treturn \"meow!\"\n",
    "class Adapter:\n",
    "\tdef __init__(self,obj,**adapted_methods):\n",
    "\t\t\"\"\"We set the adapted methods in the object's dict\"\"\"\n",
    "\t\tself.obj = obj\n",
    "\t\tself.__dict__.update(adapted_methods)\n",
    "\tdef __getattr__(self,attr):\n",
    "\t\t\"\"\"All non-adapted calls are passed to the object\"\"\"\n",
    "\t\treturn getattr(self.obj,attr)\n",
    "objects=[]\n",
    "# make_noise适配器统一调用\n",
    "dog = Dog()\n",
    "objects.append(Adapter(dog,make_noise=dog.bark))\n",
    "cat = Cat()\n",
    "objects.append(Adapter(cat,make_noise=cat.meow))\n",
    "objects\n",
    "for obj in objects:\n",
    "\tprint(\"A {0} goes {1}\".format(obj.name,obj.make_noise()))"
   ],
   "metadata": {
    "collapsed": false,
    "pycharm": {
     "name": "#%%\n"
    }
   }
  },
  {
   "cell_type": "markdown",
   "source": [],
   "metadata": {
    "collapsed": false,
    "pycharm": {
     "name": "#%% md\n"
    }
   }
  },
  {
   "cell_type": "code",
   "execution_count": null,
   "outputs": [],
   "source": [
    "class Iphone(object):\n",
    "\tdef __init__(self):\n",
    "\t\tself.name = \"Iphone\"\n",
    "\tdef power1(self):\n",
    "\t\treturn \"Lightning\"\n",
    "class Android(object):\n",
    "\tdef __init__(self):\n",
    "\t\tself.name = \"Android\"\n",
    "\tdef power2(self):\n",
    "\t\treturn \"Type-c!\"\n",
    "class Test:\n",
    "\tdef __init__(self,obj,**adapted_methods):\n",
    "\t\t\"\"\"We set the adapted methods in the object's dict\"\"\"\n",
    "\t\tself.obj = obj\n",
    "\t\tself.__dict__.update(adapted_methods)\n",
    "\tdef __getattr__(self,attr):\n",
    "\t\t\"\"\"All non-adapted calls are passed to the object\"\"\"\n",
    "\t\treturn getattr(self.obj,attr)\n",
    "phones = []\n",
    "iphone = Iphone()\n",
    "phones.append(Test(iphone,charging_line=iphone.power1()))\n",
    "xiaomi = Android()\n",
    "phones.append(Test(xiaomi,charging_line=xiaomi.power2()))\n",
    "print(phones)\n",
    "for obj in phones:\n",
    "\t# print(obj)\n",
    "\t# print(obj.name)\n",
    "\t# print(obj.charging_line)\n",
    "\tprint(\"the {0} Charging line is {1}\".format(obj.name,obj.charging_line))"
   ],
   "metadata": {
    "collapsed": false,
    "pycharm": {
     "name": "#%%\n"
    }
   }
  },
  {
   "cell_type": "code",
   "execution_count": 46,
   "outputs": [
    {
     "name": "stdout",
     "output_type": "stream",
     "text": [
      "2\n",
      "1\n"
     ]
    }
   ],
   "source": [
    "# 迭代器模式\n",
    "from collections import deque\n",
    "class Stack:\n",
    "    def __init__(self):\n",
    "        self._deque = deque()\n",
    "    def push(self,val):\n",
    "        return self._deque.append(val)\n",
    "    def pop(self):\n",
    "        return self._deque.pop()\n",
    "    def empty(self):\n",
    "        return len(self._deque) == 0\n",
    "    def __iter__(self):\n",
    "        res = []\n",
    "        for i in self._deque:\n",
    "            res.append(i)\n",
    "        for i in reversed(res):\n",
    "            yield i\n",
    "s = Stack()\n",
    "s.push(1)\n",
    "s.push(2)\n",
    "for i in s:\n",
    "    print(i)"
   ],
   "metadata": {
    "collapsed": false,
    "pycharm": {
     "name": "#%%\n"
    }
   }
  },
  {
   "cell_type": "code",
   "execution_count": 48,
   "outputs": [
    {
     "name": "stdout",
     "output_type": "stream",
     "text": [
      "BinaryFormatter:'formatter' has now bin data = 0b100\n"
     ]
    }
   ],
   "source": [
    "#发布订阅模式\n",
    "class Publisher:#发布者\n",
    "\tdef __init__(self):\n",
    "\t\tself.observers = []#加入观察者\n",
    "\tdef add(self,observer):\n",
    "\t\tif observer not in self.observers:\n",
    "\t\t\tself.observers.append(observer)\n",
    "\t\telse:\n",
    "\t\t\tprint('Failed to add :{}').format(observer)\n",
    "\tdef remove(self,observer):#移除观察者\n",
    "\t\ttry:\n",
    "\t\t\tself.observers.remove(observer)\n",
    "\t\texcept ValueError:\n",
    "\t\t\tprint('Failed to remove :{}').format(observer)\n",
    "\tdef notify(self):#调用观察者的回调\n",
    "\t\t[o.notify_by(self) for o in self.observers]\n",
    "class Formatter(Publisher):\n",
    "\tdef __init__(self,name):\n",
    "\t\tsuper().__init__()\n",
    "\t\tself.name = name\n",
    "\t\tself._data = 0\n",
    "\t@property\n",
    "\tdef data(self):\n",
    "\t\treturn self._data\n",
    "\t@data.setter\n",
    "\tdef data(self,new_value):\n",
    "\t\tself._data = int(new_value)\n",
    "\t\tself.notify()#data在被合法赋值以后会执行notif)\n",
    "class BinaryFormatter:\n",
    "\t# 订阅者\n",
    "\tdef notify_by(self,publisher):\n",
    "\t\tprint(\"{}:'{}' has now bin data = {}\".format(\n",
    "\t\ttype(self).__name__,\n",
    "\t\tpublisher.name,\n",
    "\t\tbin(publisher.data)))\n",
    "df=Formatter('formatter')#发布者\n",
    "bf=BinaryFormatter()#订阅者\n",
    "df.add(bf)#添加订阅者\n",
    "df.data=4#设置的时候调用订阅者的notify_by"
   ],
   "metadata": {
    "collapsed": false,
    "pycharm": {
     "name": "#%%\n"
    }
   }
  },
  {
   "cell_type": "code",
   "execution_count": 56,
   "outputs": [
    {
     "name": "stdout",
     "output_type": "stream",
     "text": [
      "<Price:100 price after discount:100>\n",
      "<Price:100 price after discount:90.0>\n",
      "<Price:1000 price after discount:730.0>\n"
     ]
    }
   ],
   "source": [
    "#策略模式\n",
    "class Order:\n",
    "\tdef __init__(self,price,discount_strategy=None):\n",
    "\t\tself.price = price\n",
    "\t\tself.discount_strategy = discount_strategy\n",
    "\tdef price_after_discount(self):\n",
    "\t\tif self.discount_strategy:\n",
    "\t\t\tdiscount = self.discount_strategy(self)\n",
    "\t\telse:\n",
    "\t\t\tdiscount =0\n",
    "\t\treturn self.price - discount\n",
    "\tdef __repr__(self):\n",
    "\t\tfmt = \"<Price:{} price after discount:{}>\"\n",
    "\t\treturn fmt.format(\n",
    "\t\tself.price,self.price_after_discount())\n",
    "def ten_percent_discount(order):\n",
    "\treturn order.price * 0.10\n",
    "def on_sale_discount(order):\n",
    "\treturn order.price * 0.25 +20\n",
    "def main():\n",
    "\torder0 = Order(100)\n",
    "\torder1 = Order(100,discount_strategy=ten_percent_discount)\n",
    "\torder2 = Order(1000,discount_strategy=on_sale_discount)\n",
    "\tprint(order0)\n",
    "\tprint(order1)\n",
    "\tprint(order2)\n",
    "main()"
   ],
   "metadata": {
    "collapsed": false,
    "pycharm": {
     "name": "#%%\n"
    }
   }
  }
 ],
 "metadata": {
  "kernelspec": {
   "display_name": "Python 3",
   "language": "python",
   "name": "python3"
  },
  "language_info": {
   "codemirror_mode": {
    "name": "ipython",
    "version": 2
   },
   "file_extension": ".py",
   "mimetype": "text/x-python",
   "name": "python",
   "nbconvert_exporter": "python",
   "pygments_lexer": "ipython2",
   "version": "2.7.6"
  }
 },
 "nbformat": 4,
 "nbformat_minor": 0
}