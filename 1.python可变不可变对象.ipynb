{
 "cells": [
  {
   "cell_type": "markdown",
   "source": [
    "1. 不可变对象bool/int/float/tuple/str/frozenset\n",
    "2. 可变对象list/set/dict\n",
    "3. 记住默认参数只计算一次"
   ],
   "metadata": {
    "collapsed": false,
    "pycharm": {
     "name": "#%% md\n"
    }
   }
  },
  {
   "cell_type": "code",
   "execution_count": 96,
   "outputs": [
    {
     "name": "stdout",
     "output_type": "stream",
     "text": [
      "[1, 1]\n",
      "[1, 1, 1]\n"
     ]
    }
   ],
   "source": [
    "def flist(l=[1]):\n",
    "    l.append(1)\n",
    "    print(l)\n",
    "flist()\n",
    "flist()"
   ],
   "metadata": {
    "collapsed": false,
    "pycharm": {
     "name": "#%%\n"
    }
   }
  },
  {
   "cell_type": "code",
   "execution_count": 97,
   "outputs": [
    {
     "name": "stdout",
     "output_type": "stream",
     "text": [
      "<class 'tuple'> ('q', '2')\n",
      "0 q\n",
      "1 2\n"
     ]
    }
   ],
   "source": [
    "#什么是args\n",
    "def print_multiple_args(*args):\n",
    "    print(type(args),args)\n",
    "    for idx,val in enumerate(args):\n",
    "        print(idx,val)\n",
    "print_multiple_args('q','2')"
   ],
   "metadata": {
    "collapsed": false,
    "pycharm": {
     "name": "#%%\n"
    }
   }
  },
  {
   "cell_type": "markdown",
   "source": [
    "加*号转变可以实现打包"
   ],
   "metadata": {
    "collapsed": false,
    "pycharm": {
     "name": "#%% md\n"
    }
   }
  },
  {
   "cell_type": "code",
   "execution_count": 98,
   "outputs": [
    {
     "name": "stdout",
     "output_type": "stream",
     "text": [
      "<class 'tuple'> ('q', '2')\n",
      "0 q\n",
      "1 2\n"
     ]
    }
   ],
   "source": [
    "print_multiple_args(*['q','2'])"
   ],
   "metadata": {
    "collapsed": false,
    "pycharm": {
     "name": "#%%\n"
    }
   }
  },
  {
   "cell_type": "code",
   "execution_count": 99,
   "outputs": [
    {
     "name": "stdout",
     "output_type": "stream",
     "text": [
      "<class 'dict'> {'a': 1, 'b': 2}\n",
      "a:1\n",
      "b:2\n"
     ]
    }
   ],
   "source": [
    "\n",
    "def print_kwargs(**kwargs):\n",
    "    print(type(kwargs),kwargs)\n",
    "    for k,v in kwargs.items():\n",
    "        print('{}:{}'.format(k,v))\n",
    "\n",
    "print_kwargs(a=1,b=2)"
   ],
   "metadata": {
    "collapsed": false,
    "pycharm": {
     "name": "#%%\n"
    }
   }
  },
  {
   "cell_type": "markdown",
   "source": [
    "加**dict可打包"
   ],
   "metadata": {
    "collapsed": false,
    "pycharm": {
     "name": "#%% md\n"
    }
   }
  },
  {
   "cell_type": "code",
   "execution_count": 100,
   "outputs": [
    {
     "name": "stdout",
     "output_type": "stream",
     "text": [
      "<class 'dict'> {'a': 1, 'b': 2}\n",
      "a:1\n",
      "b:2\n"
     ]
    }
   ],
   "source": [
    "print_kwargs(**dict(a=1,b=2))"
   ],
   "metadata": {
    "collapsed": false,
    "pycharm": {
     "name": "#%%\n"
    }
   }
  },
  {
   "cell_type": "code",
   "execution_count": 101,
   "outputs": [
    {
     "name": "stdout",
     "output_type": "stream",
     "text": [
      "hello\n",
      "('world',)\n",
      "{'name': 'muke'}\n"
     ]
    }
   ],
   "source": [
    "def print_all(a,*args,**kwargs):\n",
    "    print(a)\n",
    "    if args:\n",
    "        print(args)\n",
    "    if kwargs:\n",
    "        print(kwargs)\n",
    "print_all('hello','world',name='muke')"
   ],
   "metadata": {
    "collapsed": false,
    "pycharm": {
     "name": "#%%\n"
    }
   }
  },
  {
   "cell_type": "code",
   "execution_count": 102,
   "outputs": [],
   "source": [
    "# 多线程\n",
    "import threading\n",
    "n=[0]\n",
    "def foo():\n",
    "    n[0]=n[0]+1\n",
    "    n[0]=n[0]+1\n",
    "threads = []\n",
    "for i in range(5000):\n",
    "    t = threading.Thread(target=foo)\n",
    "    threads.append(t)\n",
    "for t in threads:\n",
    "    t.start()\n",
    "print(n)"
   ],
   "metadata": {
    "collapsed": false,
    "pycharm": {
     "name": "#%%\n"
    }
   }
  },
  {
   "cell_type": "code",
   "execution_count": 103,
   "outputs": [
    {
     "name": "stdout",
     "output_type": "stream",
     "text": [
      "  3           0 LOAD_CONST               1 (1)\n",
      "              2 LOAD_FAST                0 (l)\n",
      "              4 LOAD_CONST               2 (0)\n",
      "              6 STORE_SUBSCR\n",
      "              8 LOAD_CONST               0 (None)\n",
      "             10 RETURN_VALUE\n"
     ]
    }
   ],
   "source": [
    "import dis\n",
    "def update_list(l):\n",
    "    l[0]=1#原子操作，不用担心线程安全问题\n",
    "dis.dis(update_list)\n",
    "\n",
    "# 3           0 LOAD_CONST               1 (1)\n",
    "#               2 LOAD_FAST                0 (l)\n",
    "#               4 LOAD_CONST               2 (0)\n",
    "#               6 STORE_SUBSCR    表示单字节操作\n",
    "#               8 LOAD_CONST               0 (None)\n",
    "#              10 RETURN_VALUE"
   ],
   "metadata": {
    "collapsed": false,
    "pycharm": {
     "name": "#%%\n"
    }
   }
  },
  {
   "cell_type": "code",
   "execution_count": 104,
   "outputs": [
    {
     "name": "stdout",
     "output_type": "stream",
     "text": [
      "  2           0 LOAD_CONST               1 (1)\n",
      "              2 LOAD_CONST               2 (0)\n",
      "              4 DUP_TOP_TWO\n",
      "              6 BINARY_SUBSCR\n",
      "              8 LOAD_CONST               1 (1)\n",
      "             10 INPLACE_ADD\n",
      "             12 ROT_THREE\n",
      "             14 STORE_SUBSCR\n",
      "             16 LOAD_CONST               0 (None)\n",
      "             18 RETURN_VALUE\n"
     ]
    }
   ],
   "source": [
    "def incr_list(l):\n",
    "    1[0] += 1#危险！！！不是原子操作\n",
    "dis.dis(incr_list)"
   ],
   "metadata": {
    "collapsed": false,
    "pycharm": {
     "name": "#%%\n"
    }
   }
  },
  {
   "cell_type": "code",
   "execution_count": null,
   "outputs": [],
   "source": [
    "# 多线程\n",
    "import threading\n",
    "# 线程锁\n",
    "lock = threading.lock()\n",
    "n=[0]\n",
    "def foo():\n",
    "    with lock:\n",
    "        n[0]=n[0]+1\n",
    "        n[0]=n[0]+1\n",
    "threads = []\n",
    "for i in range(5000):\n",
    "    t = threading.Thread(target=foo)\n",
    "    threads.append(t)\n",
    "for t in threads:\n",
    "    t.start()\n",
    "print(n)"
   ],
   "metadata": {
    "collapsed": false,
    "pycharm": {
     "name": "#%%\n"
    }
   }
  }
 ],
 "metadata": {
  "kernelspec": {
   "display_name": "Python 3",
   "language": "python",
   "name": "python3"
  },
  "language_info": {
   "codemirror_mode": {
    "name": "ipython",
    "version": 2
   },
   "file_extension": ".py",
   "mimetype": "text/x-python",
   "name": "python",
   "nbconvert_exporter": "python",
   "pygments_lexer": "ipython2",
   "version": "2.7.6"
  }
 },
 "nbformat": 4,
 "nbformat_minor": 0
}