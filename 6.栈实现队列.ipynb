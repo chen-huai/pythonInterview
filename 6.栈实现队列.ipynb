{
 "cells": [
  {
   "cell_type": "code",
   "execution_count": 1,
   "outputs": [],
   "source": [
    "from collections import deque\n",
    "class Stack:\n",
    "    def __init__(self):\n",
    "        self.items = deque()\n",
    "    def push(self,val):\n",
    "        return self.items.append(val)\n",
    "    def pop(self):\n",
    "        return self.items.pop()\n",
    "    def top(self):#返回栈顶值\n",
    "        return self.items[-1]\n",
    "    def empty(self):\n",
    "        return len(self.items)==0"
   ],
   "metadata": {
    "collapsed": false,
    "pycharm": {
     "name": "#%%\n"
    }
   }
  },
  {
   "cell_type": "code",
   "execution_count": 2,
   "outputs": [],
   "source": [
    "class MyQueue:\n",
    "    def __init__(self):\n",
    "        '''\n",
    "        Initialize your data structure here.\n",
    "        '''\n",
    "        self.s1 = Stack()\n",
    "        self.s2 = Stack()\n",
    "    def push(self,x):\n",
    "        '''\n",
    "         Push element x to the back of queue.\n",
    "        :param x:\n",
    "        :return:\n",
    "        type x:int\n",
    "        rtype:void\n",
    "        '''\n",
    "        self.s1.push(x)\n",
    "    def pop(self):\n",
    "        \"\"\"\n",
    "        Removes the element from in front of queue and returns that element.\n",
    "        :rtype:int\n",
    "        :return:\n",
    "        \"\"\"\n",
    "        if not self.s2.empty():\n",
    "            return self.s2.pop()\n",
    "        while not self.s1.empty():\n",
    "            val = self.s1.pop()\n",
    "            self.s2.push(val)\n",
    "        return self.s2.pop()\n",
    "    def peak(self):\n",
    "        \"\"\"\n",
    "        Get the front element.\n",
    "        :rtype:int\n",
    "        :return:\n",
    "        \"\"\"\n",
    "        if not self.s2.empty():\n",
    "            return self.s2.top()\n",
    "        while not self.s1.empty():\n",
    "            val = self.s1.pop()\n",
    "            self.s2.push(val)\n",
    "        return self.s2.pop()\n",
    "    def empty(self):\n",
    "        \"\"\"\n",
    "        Returns whether the queue is empty.\n",
    "        rtype:bool\n",
    "        :return:\n",
    "        \"\"\"\n",
    "        return self.s1.empty()and self.s2.empty()\n"
   ],
   "metadata": {
    "collapsed": false,
    "pycharm": {
     "name": "#%%\n"
    }
   }
  },
  {
   "cell_type": "code",
   "execution_count": 3,
   "outputs": [],
   "source": [
    "def test():\n",
    "    q = MyQueue()\n",
    "    q.push(1)\n",
    "    q.push(2)\n",
    "    q.push(3)\n",
    "    print(q.pop())\n",
    "    print(q.pop())\n",
    "    print(q.pop())"
   ],
   "metadata": {
    "collapsed": false,
    "pycharm": {
     "name": "#%%\n"
    }
   }
  },
  {
   "cell_type": "code",
   "execution_count": 4,
   "outputs": [
    {
     "name": "stdout",
     "output_type": "stream",
     "text": [
      "1\n",
      "2\n",
      "3\n"
     ]
    }
   ],
   "source": [
    "test()"
   ],
   "metadata": {
    "collapsed": false,
    "pycharm": {
     "name": "#%%\n"
    }
   }
  },
  {
   "cell_type": "code",
   "execution_count": 5,
   "outputs": [],
   "source": [
    "q = MyQueue()\n",
    "q.push(4)\n",
    "q.push(2)\n",
    "q.push(3)\n",
    "# print(q.pop())\n",
    "# print(q.pop())\n",
    "# print(q.pop())"
   ],
   "metadata": {
    "collapsed": false,
    "pycharm": {
     "name": "#%%\n"
    }
   }
  },
  {
   "cell_type": "code",
   "execution_count": 6,
   "outputs": [
    {
     "name": "stdout",
     "output_type": "stream",
     "text": [
      "4\n",
      "2\n",
      "3\n"
     ]
    }
   ],
   "source": [
    "q.push(5)\n",
    "q.push(6)\n",
    "q.push(7)\n",
    "print(q.pop())\n",
    "print(q.pop())\n",
    "print(q.pop())"
   ],
   "metadata": {
    "collapsed": false,
    "pycharm": {
     "name": "#%%\n"
    }
   }
  },
  {
   "cell_type": "code",
   "execution_count": 6,
   "outputs": [],
   "source": [],
   "metadata": {
    "collapsed": false,
    "pycharm": {
     "name": "#%%\n"
    }
   }
  }
 ],
 "metadata": {
  "kernelspec": {
   "display_name": "Python 3",
   "language": "python",
   "name": "python3"
  },
  "language_info": {
   "codemirror_mode": {
    "name": "ipython",
    "version": 2
   },
   "file_extension": ".py",
   "mimetype": "text/x-python",
   "name": "python",
   "nbconvert_exporter": "python",
   "pygments_lexer": "ipython2",
   "version": "2.7.6"
  }
 },
 "nbformat": 4,
 "nbformat_minor": 0
}