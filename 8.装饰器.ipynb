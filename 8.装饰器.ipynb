{
 "cells": [
  {
   "cell_type": "code",
   "execution_count": 4,
   "metadata": {
    "collapsed": true,
    "pycharm": {
     "name": "#%%\n"
    }
   },
   "outputs": [
    {
     "name": "stdout",
     "output_type": "stream",
     "text": [
      "ues time:1.000411033630371\n"
     ]
    }
   ],
   "source": [
    "import time\n",
    "def log_time(func):#接受一个函数作为参数\n",
    "    def _log(*args,**kwargs):\n",
    "        beg = time.time()\n",
    "        res = func(*args,**kwargs)\n",
    "        print('ues time:{}'.format(time.time()-beg))\n",
    "        return res\n",
    "    return _log\n",
    "@log_time#@装饰器话法糖\n",
    "def mysleep():\n",
    "    time.sleep(1)\n",
    "# newsleep =  log_time(mysleep)\n",
    "# newsleep()\n",
    "mysleep()\n",
    "t = log_time(5)\n"
   ]
  },
  {
   "cell_type": "code",
   "execution_count": 5,
   "outputs": [
    {
     "name": "stdout",
     "output_type": "stream",
     "text": [
      "[DEBUG]: enter hello()\n",
      "hello\n"
     ]
    }
   ],
   "source": [
    "def debug(func):\n",
    "    def wrapper():\n",
    "        print(\"[DEBUG]: enter {}()\".format(func.__name__))\n",
    "        return func()\n",
    "    return wrapper\n",
    "\n",
    "@debug\n",
    "def hello():\n",
    "    print(\"hello\")\n",
    "\n",
    "hello()"
   ],
   "metadata": {
    "collapsed": false,
    "pycharm": {
     "name": "#%%\n"
    }
   }
  },
  {
   "cell_type": "code",
   "execution_count": 21,
   "outputs": [
    {
     "name": "stdout",
     "output_type": "stream",
     "text": [
      "[INFO]: enter hello()\n",
      "hello, good morning\n",
      "\n",
      "hello, good morning\n"
     ]
    }
   ],
   "source": [
    "def logging(level):\n",
    "    def outwrapper(func):\n",
    "        def wrapper(*args, **kwargs):\n",
    "            print(\"[{0}]: enter {1}()\".format(level, func.__name__))\n",
    "            print(*args)\n",
    "            print(**kwargs)\n",
    "            return func(*args, **kwargs)\n",
    "        return wrapper\n",
    "    return outwrapper\n",
    "\n",
    "@logging(level=\"INFO\")\n",
    "def hello(a, b, c):\n",
    "    print(a, b, c)\n",
    "\n",
    "hello(\"hello,\",\"good\",\"morning\")"
   ],
   "metadata": {
    "collapsed": false,
    "pycharm": {
     "name": "#%%\n"
    }
   }
  },
  {
   "cell_type": "code",
   "execution_count": 36,
   "outputs": [
    {
     "name": "stdout",
     "output_type": "stream",
     "text": [
      "5\n",
      "<function sumVal at 0x000001F7D6A9A3A0>\n",
      "*args\n"
     ]
    },
    {
     "data": {
      "text/plain": "6"
     },
     "execution_count": 36,
     "metadata": {},
     "output_type": "execute_result"
    }
   ],
   "source": [
    "def test1(func):\n",
    "    print(func)\n",
    "    def test2(func2):\n",
    "        print(func2)\n",
    "        def test3(*args,**kwargs):\n",
    "            l= '*args'\n",
    "            print(l)\n",
    "            return func2(*args, **kwargs)\n",
    "        return test3\n",
    "    return test2\n",
    "\n",
    "@test1(func='5')\n",
    "def sumVal(a,b,c):\n",
    "    return a+b+c\n",
    "sumVal(1,2,3)"
   ],
   "metadata": {
    "collapsed": false,
    "pycharm": {
     "name": "#%%\n"
    }
   }
  },
  {
   "cell_type": "code",
   "execution_count": 6,
   "outputs": [
    {
     "name": "stdout",
     "output_type": "stream",
     "text": [
      "use time:2.008308172225952\n"
     ]
    }
   ],
   "source": [
    "# 如何给装饰器增加参数？\n",
    "# 使用类装饰器比较方便实现装饰器参数\n",
    "import time\n",
    "class LogTimeParams:\n",
    "    def __init__(self,use_int=False):\n",
    "        self.use_int = use_int\n",
    "    def __call__(self,func):\n",
    "        def _log(*args,**kwargs):\n",
    "            beg = time.time()\n",
    "            res = func(*args,*kwargs)\n",
    "            if self.use_int:\n",
    "                print('use time:{}'.format(int(time.time()-beg)))\n",
    "            else:\n",
    "                print('use time:{}'.format(time.time()-beg))\n",
    "            return res\n",
    "        return _log\n",
    "\n",
    "# 装饰器传参\n",
    "# @LogTimeParams(True)\n",
    "@LogTimeParams()\n",
    "def mysleep():\n",
    "    time.sleep(2)\n",
    "mysleep()"
   ],
   "metadata": {
    "collapsed": false,
    "pycharm": {
     "name": "#%%\n"
    }
   }
  }
 ],
 "metadata": {
  "kernelspec": {
   "display_name": "Python 3",
   "language": "python",
   "name": "python3"
  },
  "language_info": {
   "codemirror_mode": {
    "name": "ipython",
    "version": 2
   },
   "file_extension": ".py",
   "mimetype": "text/x-python",
   "name": "python",
   "nbconvert_exporter": "python",
   "pygments_lexer": "ipython2",
   "version": "2.7.6"
  }
 },
 "nbformat": 4,
 "nbformat_minor": 0
}