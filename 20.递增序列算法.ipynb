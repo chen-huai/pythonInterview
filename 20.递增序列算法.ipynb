{
 "cells": [
  {
   "cell_type": "code",
   "execution_count": 2,
   "metadata": {
    "collapsed": true,
    "pycharm": {
     "name": "#%%\n"
    }
   },
   "outputs": [
    {
     "data": {
      "text/plain": "'1010'"
     },
     "execution_count": 2,
     "metadata": {},
     "output_type": "execute_result"
    }
   ],
   "source": [
    "def mybin(num):#10进制->2进制串\n",
    "    if num == 0:\n",
    "        return 0\n",
    "    res = []\n",
    "    while num:\n",
    "        num,rem =divmod(num,2)#2->62\n",
    "        res.append(str(rem))\n",
    "    return ''.join(reversed(res))\n",
    "mybin(10)"
   ]
  },
  {
   "cell_type": "code",
   "execution_count": 4,
   "outputs": [
    {
     "name": "stdout",
     "output_type": "stream",
     "text": [
      "a\n",
      "9\n",
      "b9\n",
      "dmK\n"
     ]
    }
   ],
   "source": [
    "CHARS = \"abcdefghijklmnopqrstuvwxyzABCDEFGHIJKLMNOPQRSTUVWXYZ0123456789\"\n",
    "def encode(num):\n",
    "    if num == 0:\n",
    "        return CHARS[0]\n",
    "    res=[]\n",
    "    while num:\n",
    "        # divmod求余数和模\n",
    "        num,rem = divmod(num,len(CHARS))#62\n",
    "        res.append(CHARS[rem])\n",
    "    #     reversed倒叙\n",
    "    return ''.join(reversed(res))\n",
    "print(encode(0))\n",
    "print(encode(61))\n",
    "print(encode(123))\n",
    "print(encode(12312))"
   ],
   "metadata": {
    "collapsed": false,
    "pycharm": {
     "name": "#%%\n"
    }
   }
  },
  {
   "cell_type": "code",
   "execution_count": null,
   "outputs": [],
   "source": [],
   "metadata": {
    "collapsed": false,
    "pycharm": {
     "name": "#%%\n"
    }
   }
  }
 ],
 "metadata": {
  "kernelspec": {
   "display_name": "Python 3",
   "language": "python",
   "name": "python3"
  },
  "language_info": {
   "codemirror_mode": {
    "name": "ipython",
    "version": 2
   },
   "file_extension": ".py",
   "mimetype": "text/x-python",
   "name": "python",
   "nbconvert_exporter": "python",
   "pygments_lexer": "ipython2",
   "version": "2.7.6"
  }
 },
 "nbformat": 4,
 "nbformat_minor": 0
}