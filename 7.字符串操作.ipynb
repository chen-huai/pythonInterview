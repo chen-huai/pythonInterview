{
 "cells": [
  {
   "cell_type": "code",
   "execution_count": 43,
   "outputs": [],
   "source": [
    "class Solution:\n",
    "\tdef reverseString(self, s):\n",
    "\t\t\"\"\"\n",
    "\t\ttype s:List[str]\n",
    "\t\trtype:void Do not return anything,modify s in-place instead.\n",
    "\t\t\"\"\"\n",
    "\t\tbeg = 0\n",
    "\t\tend = len(s)-1\n",
    "\t\twhile beg < end:\n",
    "\t\t\ts[beg],s[end] = s[end],s[beg]\n",
    "\t\t\tbeg += 1\n",
    "\t\t\tend -= 1\n",
    "\t\treturn s\n"
   ],
   "metadata": {
    "collapsed": false,
    "pycharm": {
     "name": "#%%\n"
    }
   }
  },
  {
   "cell_type": "code",
   "execution_count": 44,
   "outputs": [
    {
     "data": {
      "text/plain": "['o', 'l', 'l', 'e', 'h']"
     },
     "execution_count": 44,
     "metadata": {},
     "output_type": "execute_result"
    }
   ],
   "source": [
    "t = 'hello'\n",
    "s = list(t)\n",
    "type(s)\n",
    "s\n",
    "# s = ['h','e','l','l','o']\n",
    "# s\n",
    "test = Solution()\n",
    "test.reverseString(s)"
   ],
   "metadata": {
    "collapsed": false,
    "pycharm": {
     "name": "#%%\n"
    }
   }
  },
  {
   "cell_type": "code",
   "execution_count": 32,
   "outputs": [
    {
     "name": "stdout",
     "output_type": "stream",
     "text": [
      "True\n",
      "False\n",
      "True\n"
     ]
    }
   ],
   "source": [
    "class Solution:\n",
    "\tdef isPalindrome(self,x):\n",
    "\t\t# type x:int\n",
    "\t\t# rtype:bool\n",
    "\t\tif x < 0:\n",
    "\t\t\treturn False\n",
    "\t\ts = str(x)\n",
    "\t\tbeg,end = 0,len(s)-1\n",
    "\t\twhile beg < end:\n",
    "\t\t\tif s[beg] == s[end]:\n",
    "\t\t\t\tbeg += 1\n",
    "\t\t\t\tend -= 1\n",
    "\t\t\telse:\n",
    "\t\t\t\treturn False\n",
    "\t\treturn True\n",
    "def test():\n",
    "\ts = Solution()\n",
    "\tprint(s.isPalindrome(121))\n",
    "\tprint(s.isPalindrome(-1))\n",
    "\tprint(s.isPalindrome(1))\n",
    "test()"
   ],
   "metadata": {
    "collapsed": false,
    "pycharm": {
     "name": "#%%\n"
    }
   }
  },
  {
   "cell_type": "code",
   "execution_count": 31,
   "outputs": [
    {
     "name": "stdout",
     "output_type": "stream",
     "text": [
      "l\n"
     ]
    },
    {
     "ename": "TypeError",
     "evalue": "'str' object does not support item assignment",
     "output_type": "error",
     "traceback": [
      "\u001B[1;31m---------------------------------------------------------------------------\u001B[0m",
      "\u001B[1;31mTypeError\u001B[0m                                 Traceback (most recent call last)",
      "Cell \u001B[1;32mIn[31], line 3\u001B[0m\n\u001B[0;32m      1\u001B[0m t \u001B[38;5;241m=\u001B[39m \u001B[38;5;124m'\u001B[39m\u001B[38;5;124mhelio\u001B[39m\u001B[38;5;124m'\u001B[39m\n\u001B[0;32m      2\u001B[0m \u001B[38;5;28mprint\u001B[39m(t[\u001B[38;5;241m2\u001B[39m])\n\u001B[1;32m----> 3\u001B[0m \u001B[43mt\u001B[49m\u001B[43m[\u001B[49m\u001B[38;5;241;43m2\u001B[39;49m\u001B[43m]\u001B[49m \u001B[38;5;241m=\u001B[39m \u001B[38;5;241m1\u001B[39m\n",
      "\u001B[1;31mTypeError\u001B[0m: 'str' object does not support item assignment"
     ]
    }
   ],
   "source": [
    "t = 'helio'\n",
    "print(t[2])\n",
    "t[2] = 1"
   ],
   "metadata": {
    "collapsed": false,
    "pycharm": {
     "name": "#%%\n"
    }
   }
  }
 ],
 "metadata": {
  "kernelspec": {
   "display_name": "Python 3",
   "language": "python",
   "name": "python3"
  },
  "language_info": {
   "codemirror_mode": {
    "name": "ipython",
    "version": 2
   },
   "file_extension": ".py",
   "mimetype": "text/x-python",
   "name": "python",
   "nbconvert_exporter": "python",
   "pygments_lexer": "ipython2",
   "version": "2.7.6"
  }
 },
 "nbformat": 4,
 "nbformat_minor": 0
}