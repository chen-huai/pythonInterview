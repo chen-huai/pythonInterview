{
 "cells": [
  {
   "cell_type": "code",
   "execution_count": 5,
   "metadata": {
    "collapsed": true,
    "pycharm": {
     "name": "#%%\n"
    }
   },
   "outputs": [
    {
     "data": {
      "text/plain": "5"
     },
     "execution_count": 5,
     "metadata": {},
     "output_type": "execute_result"
    }
   ],
   "source": [
    "from functools import wraps\n",
    "def cache(func):\n",
    "    store = {}\n",
    "    @wraps(func)\n",
    "    def _(n):\n",
    "        # print(n,'a')\n",
    "        if n in store:\n",
    "            return store[n]\n",
    "        else:\n",
    "            res = func(n)\n",
    "            store[n]=res\n",
    "            return res\n",
    "    return _\n",
    "@cache\n",
    "def f(n):\n",
    "    if n <1:\n",
    "        return 1\n",
    "    return f(n -1)+f(n - 2)\n",
    "\n",
    "f(3)"
   ]
  },
  {
   "cell_type": "markdown",
   "source": [],
   "metadata": {
    "collapsed": false,
    "pycharm": {
     "name": "#%% md\n"
    }
   }
  }
 ],
 "metadata": {
  "kernelspec": {
   "display_name": "Python 3",
   "language": "python",
   "name": "python3"
  },
  "language_info": {
   "codemirror_mode": {
    "name": "ipython",
    "version": 2
   },
   "file_extension": ".py",
   "mimetype": "text/x-python",
   "name": "python",
   "nbconvert_exporter": "python",
   "pygments_lexer": "ipython2",
   "version": "2.7.6"
  }
 },
 "nbformat": 4,
 "nbformat_minor": 0
}