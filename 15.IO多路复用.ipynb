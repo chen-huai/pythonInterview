{
 "cells": [
  {
   "cell_type": "code",
   "execution_count": null,
   "outputs": [],
   "source": [
    "import selectors\n",
    "import socket\n",
    "\n",
    "sel = selectors.DefaultSelector()\n",
    "\n",
    "def accept(sock, mask):\n",
    "    conn, addr = sock.accept()  # Should be ready\n",
    "    print('accepted', conn, 'from', addr)\n",
    "    conn.setblocking(False)\n",
    "    sel.register(conn, selectors.EVENT_READ, read)\n",
    "\n",
    "def read(conn, mask):\n",
    "    data = conn.recv(1000)  # Should be ready\n",
    "    if data:\n",
    "        print('echoing', repr(data), 'to', conn)\n",
    "        conn.send(data)  # Hope it won't block\n",
    "    else:\n",
    "        print('closing', conn)\n",
    "        sel.unregister(conn)\n",
    "        conn.close()\n",
    "\n",
    "sock = socket.socket()\n",
    "sock.bind(('localhost', 122))\n",
    "sock.listen(100)\n",
    "sock.setblocking(False)\n",
    "sel.register(sock, selectors.EVENT_READ, accept)\n",
    "\n",
    "while True:\n",
    "    events = sel.select()\n",
    "    for key, mask in events:\n",
    "        callback = key.data\n",
    "        callback(key.fileobj, mask)"
   ],
   "metadata": {
    "collapsed": false,
    "pycharm": {
     "name": "#%%\n",
     "is_executing": true
    }
   }
  },
  {
   "cell_type": "code",
   "execution_count": null,
   "outputs": [],
   "source": [
    "import socket\n",
    "import time\n",
    "\n",
    "IP = '127.0.0.1'\n",
    "PORT = 122\n",
    "DELAY = 2  # 延迟时间\n",
    "DATA = \"Hello Socket\"\n",
    "\n",
    "\n",
    "def TcpClient():\n",
    "    # 建立一个客户端\n",
    "    client = socket.socket(socket.AF_INET, socket.SOCK_STREAM)  # 声明socket类型，同时生成链接对象\n",
    "    try:\n",
    "        client.connect((IP, PORT))  # 建立一个链接，连接到本地的6969端口\n",
    "    except ConnectionRefusedError:\n",
    "        print(\"服务器无法连接，请确保服务器端已打开。\")\n",
    "        exit(0)\n",
    "    while True:\n",
    "        try:\n",
    "            client.sendall(DATA.encode(\"utf-8\"))\n",
    "            print(DATA, \"已发送\")\n",
    "            data = client.recv(1024)  # 接收一个信息，并指定接收的大小 为1024字节\n",
    "            print(\"接收到:\", data)\n",
    "            time.sleep(DELAY)\n",
    "        except ConnectionAbortedError:\n",
    "            print(\"服务器无法连接，请确保服务器端已打开。\")\n",
    "            exit(0)\n",
    "        except KeyboardInterrupt:\n",
    "            client.close()\n",
    "            print(\"Tcp 客户端已关闭\")\n",
    "            exit(0)\n",
    "\n",
    "\n",
    "if __name__ == \"__main__\":\n",
    "    TcpClient()"
   ],
   "metadata": {
    "collapsed": false,
    "pycharm": {
     "name": "#%%\n",
     "is_executing": true
    }
   }
  },
  {
   "cell_type": "code",
   "execution_count": null,
   "outputs": [],
   "source": [],
   "metadata": {
    "collapsed": false,
    "pycharm": {
     "name": "#%%\n"
    }
   }
  }
 ],
 "metadata": {
  "kernelspec": {
   "display_name": "Python 3",
   "language": "python",
   "name": "python3"
  },
  "language_info": {
   "codemirror_mode": {
    "name": "ipython",
    "version": 2
   },
   "file_extension": ".py",
   "mimetype": "text/x-python",
   "name": "python",
   "nbconvert_exporter": "python",
   "pygments_lexer": "ipython2",
   "version": "2.7.6"
  }
 },
 "nbformat": 4,
 "nbformat_minor": 0
}