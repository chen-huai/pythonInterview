{
 "cells": [
  {
   "cell_type": "code",
   "execution_count": 4,
   "metadata": {
    "collapsed": true,
    "pycharm": {
     "name": "#%%\n"
    }
   },
   "outputs": [
    {
     "ename": "AssertionError",
     "evalue": "",
     "output_type": "error",
     "traceback": [
      "\u001B[1;31m---------------------------------------------------------------------------\u001B[0m",
      "\u001B[1;31mAssertionError\u001B[0m                            Traceback (most recent call last)",
      "Cell \u001B[1;32mIn [4], line 34\u001B[0m\n\u001B[0;32m     31\u001B[0m     \u001B[38;5;66;03m#异常值\u001B[39;00m\n\u001B[0;32m     32\u001B[0m     \u001B[38;5;28;01massert\u001B[39;00m binary_search([], \u001B[38;5;241m1\u001B[39m)\u001B[38;5;241m==\u001B[39m\u001B[38;5;241m-\u001B[39m\u001B[38;5;241m1\u001B[39m\n\u001B[1;32m---> 34\u001B[0m \u001B[43mtest\u001B[49m\u001B[43m(\u001B[49m\u001B[43m)\u001B[49m\n",
      "Cell \u001B[1;32mIn [4], line 30\u001B[0m, in \u001B[0;36mtest\u001B[1;34m()\u001B[0m\n\u001B[0;32m     28\u001B[0m \u001B[38;5;28;01massert\u001B[39;00m binary_search([\u001B[38;5;241m0\u001B[39m,\u001B[38;5;241m1\u001B[39m,\u001B[38;5;241m2\u001B[39m,\u001B[38;5;241m3\u001B[39m,\u001B[38;5;241m4\u001B[39m,\u001B[38;5;241m5\u001B[39m],\u001B[38;5;241m0\u001B[39m) \u001B[38;5;241m==\u001B[39m\u001B[38;5;241m0\u001B[39m\n\u001B[0;32m     29\u001B[0m \u001B[38;5;28;01massert\u001B[39;00m binary_search([\u001B[38;5;241m0\u001B[39m,\u001B[38;5;241m1\u001B[39m,\u001B[38;5;241m2\u001B[39m,\u001B[38;5;241m3\u001B[39m,\u001B[38;5;241m4\u001B[39m,\u001B[38;5;241m5\u001B[39m],\u001B[38;5;241m5\u001B[39m) \u001B[38;5;241m==\u001B[39m\u001B[38;5;241m5\u001B[39m\n\u001B[1;32m---> 30\u001B[0m \u001B[38;5;28;01massert\u001B[39;00m binary_search([],\u001B[38;5;241m0\u001B[39m)\u001B[38;5;241m==\u001B[39m\u001B[38;5;241m0\u001B[39m\n\u001B[0;32m     31\u001B[0m \u001B[38;5;66;03m#异常值\u001B[39;00m\n\u001B[0;32m     32\u001B[0m \u001B[38;5;28;01massert\u001B[39;00m binary_search([], \u001B[38;5;241m1\u001B[39m)\u001B[38;5;241m==\u001B[39m\u001B[38;5;241m-\u001B[39m\u001B[38;5;241m1\u001B[39m\n",
      "\u001B[1;31mAssertionError\u001B[0m: "
     ]
    }
   ],
   "source": [
    "# 需安装pytest\n",
    "\n",
    "def binary_search(array,target):\n",
    "\n",
    "    if not array:\n",
    "        return -1\n",
    "    beg,end = 0,len(array)\n",
    "    while beg < end:\n",
    "        mid = beg + (end - beg)//2\n",
    "        if array[mid]==target:\n",
    "            return mid\n",
    "        elif array[mid]>target:\n",
    "            end = mid\n",
    "        else:\n",
    "            beg = mid + 1\n",
    "    return -1\n",
    "\n",
    "def test():\n",
    "    # 相市相\n",
    "    # 如何设计测试用例：(等价类划分)\n",
    "    # ~正常值功能测试\n",
    "    # 边界值（比如最大最小，最左最右值】\n",
    "    # -\n",
    "    # 异常值（比如None,空值，非法值】\n",
    "    #正常值，包含有和无两种结果\n",
    "    assert binary_search([0,1,2,3,4,5],1) ==1\n",
    "    assert binary_search([0,1,2,3,4,5],6)==-1\n",
    "    assert binary_search([0,1,2,3,4,5],-1)==-1\n",
    "    #边界值\n",
    "    assert binary_search([0,1,2,3,4,5],0) ==0\n",
    "    assert binary_search([0,1,2,3,4,5],5) ==5\n",
    "    assert binary_search([],0)==0\n",
    "    #异常值\n",
    "    assert binary_search([], 1)==-1\n",
    "\n"
   ]
  }
 ],
 "metadata": {
  "kernelspec": {
   "display_name": "Python 3",
   "language": "python",
   "name": "python3"
  },
  "language_info": {
   "codemirror_mode": {
    "name": "ipython",
    "version": 2
   },
   "file_extension": ".py",
   "mimetype": "text/x-python",
   "name": "python",
   "nbconvert_exporter": "python",
   "pygments_lexer": "ipython2",
   "version": "2.7.6"
  }
 },
 "nbformat": 4,
 "nbformat_minor": 0
}