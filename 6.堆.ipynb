{
 "cells": [
  {
   "cell_type": "code",
   "execution_count": 8,
   "outputs": [],
   "source": [
    "from linked_list import *\n",
    "\n",
    "from heapq import heapify,heappop\n",
    "class Solution:\n",
    "    def mergeKLists(self,lists):\n",
    "        \"\"\"\n",
    "        type lists:List[ListNode]\n",
    "        rtype:ListNode\n",
    "        \"\"\"\n",
    "        #读取所有节点值\n",
    "        h = []\n",
    "        for node in lists:\n",
    "            while node:\n",
    "                h.append(node.val)\n",
    "                node = node.next\n",
    "        if not h:\n",
    "            return None\n",
    "        #构造一个最小堆\n",
    "        heapify(h)#转换成最小堆\n",
    "\n",
    "        #构造链表\n",
    "        root = ListNode(heappop(h))\n",
    "        curnode = root\n",
    "        while h:\n",
    "            nextnode = ListNode(heappop(h))\n",
    "            curnode.next = nextnode\n",
    "            curnode = nextnode\n",
    "        return root"
   ],
   "metadata": {
    "collapsed": false,
    "pycharm": {
     "name": "#%%\n"
    }
   }
  },
  {
   "cell_type": "code",
   "execution_count": 10,
   "outputs": [
    {
     "ename": "NameError",
     "evalue": "name 'list_to_linked' is not defined",
     "output_type": "error",
     "traceback": [
      "\u001B[1;31m---------------------------------------------------------------------------\u001B[0m",
      "\u001B[1;31mNameError\u001B[0m                                 Traceback (most recent call last)",
      "Cell \u001B[1;32mIn[10], line 4\u001B[0m\n\u001B[0;32m      1\u001B[0m h \u001B[38;5;241m=\u001B[39m Solution()\n\u001B[0;32m      3\u001B[0m l1 \u001B[38;5;241m=\u001B[39m [\u001B[38;5;241m1\u001B[39m,\u001B[38;5;241m2\u001B[39m,\u001B[38;5;241m54\u001B[39m,\u001B[38;5;241m6\u001B[39m,\u001B[38;5;241m7\u001B[39m,\u001B[38;5;241m0\u001B[39m]\n\u001B[1;32m----> 4\u001B[0m l \u001B[38;5;241m=\u001B[39m \u001B[43mlist_to_linked\u001B[49m(l1)\n\u001B[0;32m      5\u001B[0m \u001B[38;5;28mprint\u001B[39m(l)\n\u001B[0;32m      7\u001B[0m \u001B[38;5;66;03m# h.mergeKLists(l)\u001B[39;00m\n",
      "\u001B[1;31mNameError\u001B[0m: name 'list_to_linked' is not defined"
     ]
    }
   ],
   "source": [
    "h = Solution()\n",
    "\n",
    "l1 = [1,2,54,6,7,0]\n",
    "l = list_to_linked(l1)\n",
    "print(l)\n",
    "\n",
    "# h.mergeKLists(l)"
   ],
   "metadata": {
    "collapsed": false,
    "pycharm": {
     "name": "#%%\n"
    }
   }
  },
  {
   "cell_type": "code",
   "execution_count": null,
   "outputs": [],
   "source": [],
   "metadata": {
    "collapsed": false,
    "pycharm": {
     "name": "#%%\n"
    }
   }
  }
 ],
 "metadata": {
  "kernelspec": {
   "display_name": "Python 3",
   "language": "python",
   "name": "python3"
  },
  "language_info": {
   "codemirror_mode": {
    "name": "ipython",
    "version": 2
   },
   "file_extension": ".py",
   "mimetype": "text/x-python",
   "name": "python",
   "nbconvert_exporter": "python",
   "pygments_lexer": "ipython2",
   "version": "2.7.6"
  }
 },
 "nbformat": 4,
 "nbformat_minor": 0
}