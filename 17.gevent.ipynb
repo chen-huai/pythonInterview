{
 "cells": [
  {
   "cell_type": "code",
   "execution_count": null,
   "metadata": {
    "collapsed": true,
    "pycharm": {
     "name": "#%%\n"
    }
   },
   "outputs": [],
   "source": [
    "import gevent.monkey\n",
    "gevent.monkey.patch_all()\n",
    "#修改内置的一些库非阻塞\n",
    "import gevent\n",
    "import requests\n",
    "def fetch(i):\n",
    "    url = 'http://httpbin.org/get'\n",
    "    resp = requests.get(url)\n",
    "    print(len(resp.text),i)\n",
    "def asynchronous():\n",
    "    threads=[]\n",
    "    for i in range(1,10):\n",
    "        threads.append(gevent.spawn(fetch,i))\n",
    "    gevent.joinall(threads)\n",
    "print('Asynchronous:')\n",
    "asynchronous()"
   ]
  }
 ],
 "metadata": {
  "kernelspec": {
   "display_name": "Python 3",
   "language": "python",
   "name": "python3"
  },
  "language_info": {
   "codemirror_mode": {
    "name": "ipython",
    "version": 2
   },
   "file_extension": ".py",
   "mimetype": "text/x-python",
   "name": "python",
   "nbconvert_exporter": "python",
   "pygments_lexer": "ipython2",
   "version": "2.7.6"
  }
 },
 "nbformat": 4,
 "nbformat_minor": 0
}